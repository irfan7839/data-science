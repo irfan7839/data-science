{
 "cells": [
  {
   "cell_type": "code",
   "execution_count": 6,
   "id": "embedded-familiar",
   "metadata": {},
   "outputs": [],
   "source": [
    "import numpy as np\n",
    "import matplotlib.pyplot as plt\n",
    "import pandas as pd\n",
    "from sklearn import linear_model"
   ]
  },
  {
   "cell_type": "code",
   "execution_count": 8,
   "id": "fossil-innocent",
   "metadata": {},
   "outputs": [
    {
     "data": {
      "text/html": [
       "<div>\n",
       "<style scoped>\n",
       "    .dataframe tbody tr th:only-of-type {\n",
       "        vertical-align: middle;\n",
       "    }\n",
       "\n",
       "    .dataframe tbody tr th {\n",
       "        vertical-align: top;\n",
       "    }\n",
       "\n",
       "    .dataframe thead th {\n",
       "        text-align: right;\n",
       "    }\n",
       "</style>\n",
       "<table border=\"1\" class=\"dataframe\">\n",
       "  <thead>\n",
       "    <tr style=\"text-align: right;\">\n",
       "      <th></th>\n",
       "      <th>Root no.(mor)</th>\n",
       "      <th>cost</th>\n",
       "      <th>distance</th>\n",
       "      <th>demand</th>\n",
       "      <th>capacity</th>\n",
       "    </tr>\n",
       "  </thead>\n",
       "  <tbody>\n",
       "    <tr>\n",
       "      <th>0</th>\n",
       "      <td>6</td>\n",
       "      <td>377.535</td>\n",
       "      <td>14.2</td>\n",
       "      <td>4100</td>\n",
       "      <td>6000</td>\n",
       "    </tr>\n",
       "    <tr>\n",
       "      <th>1</th>\n",
       "      <td>7 new(7+63)</td>\n",
       "      <td>558.650</td>\n",
       "      <td>29.9</td>\n",
       "      <td>5865</td>\n",
       "      <td>6000</td>\n",
       "    </tr>\n",
       "    <tr>\n",
       "      <th>2</th>\n",
       "      <td>9</td>\n",
       "      <td>359.040</td>\n",
       "      <td>17.8</td>\n",
       "      <td>3290</td>\n",
       "      <td>3500</td>\n",
       "    </tr>\n",
       "    <tr>\n",
       "      <th>3</th>\n",
       "      <td>15</td>\n",
       "      <td>279.675</td>\n",
       "      <td>8.5</td>\n",
       "      <td>2000</td>\n",
       "      <td>3500</td>\n",
       "    </tr>\n",
       "    <tr>\n",
       "      <th>4</th>\n",
       "      <td>16 new ( 16+8)</td>\n",
       "      <td>441.500</td>\n",
       "      <td>19.7</td>\n",
       "      <td>5520</td>\n",
       "      <td>6000</td>\n",
       "    </tr>\n",
       "    <tr>\n",
       "      <th>5</th>\n",
       "      <td>26new (26+10)</td>\n",
       "      <td>328.475</td>\n",
       "      <td>11.5</td>\n",
       "      <td>3300</td>\n",
       "      <td>3500</td>\n",
       "    </tr>\n",
       "    <tr>\n",
       "      <th>6</th>\n",
       "      <td>28</td>\n",
       "      <td>410.575</td>\n",
       "      <td>27.1</td>\n",
       "      <td>4283</td>\n",
       "      <td>6000</td>\n",
       "    </tr>\n",
       "    <tr>\n",
       "      <th>7</th>\n",
       "      <td>35new (35=61)</td>\n",
       "      <td>425.440</td>\n",
       "      <td>22.8</td>\n",
       "      <td>3100</td>\n",
       "      <td>3500</td>\n",
       "    </tr>\n",
       "    <tr>\n",
       "      <th>8</th>\n",
       "      <td>36 new(36+11)</td>\n",
       "      <td>467.075</td>\n",
       "      <td>21.8</td>\n",
       "      <td>4884</td>\n",
       "      <td>6000</td>\n",
       "    </tr>\n",
       "    <tr>\n",
       "      <th>9</th>\n",
       "      <td>37new (37+27)</td>\n",
       "      <td>433.910</td>\n",
       "      <td>18.2</td>\n",
       "      <td>5750</td>\n",
       "      <td>6000</td>\n",
       "    </tr>\n",
       "    <tr>\n",
       "      <th>10</th>\n",
       "      <td>43new(43+59)</td>\n",
       "      <td>335.405</td>\n",
       "      <td>12.4</td>\n",
       "      <td>3400</td>\n",
       "      <td>3500</td>\n",
       "    </tr>\n",
       "    <tr>\n",
       "      <th>11</th>\n",
       "      <td>45</td>\n",
       "      <td>304.865</td>\n",
       "      <td>11.7</td>\n",
       "      <td>2412</td>\n",
       "      <td>3500</td>\n",
       "    </tr>\n",
       "    <tr>\n",
       "      <th>12</th>\n",
       "      <td>46new(46+62)</td>\n",
       "      <td>344.535</td>\n",
       "      <td>14.0</td>\n",
       "      <td>3400</td>\n",
       "      <td>3500</td>\n",
       "    </tr>\n",
       "    <tr>\n",
       "      <th>13</th>\n",
       "      <td>57</td>\n",
       "      <td>329.065</td>\n",
       "      <td>14.0</td>\n",
       "      <td>2100</td>\n",
       "      <td>3500</td>\n",
       "    </tr>\n",
       "    <tr>\n",
       "      <th>14</th>\n",
       "      <td>58</td>\n",
       "      <td>282.590</td>\n",
       "      <td>9.0</td>\n",
       "      <td>2300</td>\n",
       "      <td>3500</td>\n",
       "    </tr>\n",
       "    <tr>\n",
       "      <th>15</th>\n",
       "      <td>60</td>\n",
       "      <td>424.215</td>\n",
       "      <td>24.7</td>\n",
       "      <td>2100</td>\n",
       "      <td>3500</td>\n",
       "    </tr>\n",
       "  </tbody>\n",
       "</table>\n",
       "</div>"
      ],
      "text/plain": [
       "     Root no.(mor)     cost  distance  demand  capacity\n",
       "0                6  377.535      14.2    4100      6000\n",
       "1      7 new(7+63)  558.650      29.9    5865      6000\n",
       "2                9  359.040      17.8    3290      3500\n",
       "3               15  279.675       8.5    2000      3500\n",
       "4   16 new ( 16+8)  441.500      19.7    5520      6000\n",
       "5    26new (26+10)  328.475      11.5    3300      3500\n",
       "6               28  410.575      27.1    4283      6000\n",
       "7    35new (35=61)  425.440      22.8    3100      3500\n",
       "8    36 new(36+11)  467.075      21.8    4884      6000\n",
       "9    37new (37+27)  433.910      18.2    5750      6000\n",
       "10    43new(43+59)  335.405      12.4    3400      3500\n",
       "11              45  304.865      11.7    2412      3500\n",
       "12    46new(46+62)  344.535      14.0    3400      3500\n",
       "13              57  329.065      14.0    2100      3500\n",
       "14              58  282.590       9.0    2300      3500\n",
       "15              60  424.215      24.7    2100      3500"
      ]
     },
     "execution_count": 8,
     "metadata": {},
     "output_type": "execute_result"
    }
   ],
   "source": [
    "df=pd.read_csv(\"Book1.csv\")\n",
    "df"
   ]
  },
  {
   "cell_type": "code",
   "execution_count": 9,
   "id": "powerful-worst",
   "metadata": {},
   "outputs": [
    {
     "data": {
      "text/plain": [
       "LinearRegression()"
      ]
     },
     "execution_count": 9,
     "metadata": {},
     "output_type": "execute_result"
    }
   ],
   "source": [
    "reg=linear_model.LinearRegression()\n",
    "reg.fit(df[['distance','demand']],df.cost)"
   ]
  },
  {
   "cell_type": "code",
   "execution_count": 16,
   "id": "quality-statistics",
   "metadata": {},
   "outputs": [
    {
     "data": {
      "text/plain": [
       "array([443.27766425])"
      ]
     },
     "execution_count": 16,
     "metadata": {},
     "output_type": "execute_result"
    }
   ],
   "source": [
    "reg.predict([[19.7,5500]])"
   ]
  },
  {
   "cell_type": "code",
   "execution_count": 17,
   "id": "sound-peripheral",
   "metadata": {},
   "outputs": [
    {
     "data": {
      "image/png": "[encoded data removed]",
      "text/plain": [
       "<Figure size 432x288 with 1 Axes>"
      ]
     },
     "metadata": {
      "needs_background": "light"
     },
     "output_type": "display_data"
    }
   ],
   "source": [
    "#plt.scatter(df[['distance']],df.cost)\n",
    "#plt.scatter(df[['demand']],df.cost)\n",
    "plt.plot(df[['distance','demand']],df.cost)\n",
    "plt.show()"
   ]
  },
  {
   "cell_type": "code",
   "execution_count": null,
   "id": "driven-replica",
   "metadata": {},
   "outputs": [],
   "source": []
  }
 ],
 "metadata": {
  "kernelspec": {
   "display_name": "Python 3",
   "language": "python",
   "name": "python3"
  },
  "language_info": {
   "codemirror_mode": {
    "name": "ipython",
    "version": 3
   },
   "file_extension": ".py",
   "mimetype": "text/x-python",
   "name": "python",
   "nbconvert_exporter": "python",
   "pygments_lexer": "ipython3",
   "version": "3.8.5"
  }
 },
 "nbformat": 4,
 "nbformat_minor": 5
}
