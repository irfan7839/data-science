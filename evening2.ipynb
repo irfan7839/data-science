{
 "cells": [
  {
   "cell_type": "code",
   "execution_count": 1,
   "id": "regulated-wells",
   "metadata": {},
   "outputs": [],
   "source": [
    "import numpy as np\n",
    "import matplotlib.pyplot as plt\n",
    "import pandas as pd\n",
    "from sklearn import linear_model"
   ]
  },
  {
   "cell_type": "code",
   "execution_count": 3,
   "id": "wanted-removal",
   "metadata": {},
   "outputs": [
    {
     "data": {
      "text/html": [
       "<div>\n",
       "<style scoped>\n",
       "    .dataframe tbody tr th:only-of-type {\n",
       "        vertical-align: middle;\n",
       "    }\n",
       "\n",
       "    .dataframe tbody tr th {\n",
       "        vertical-align: top;\n",
       "    }\n",
       "\n",
       "    .dataframe thead th {\n",
       "        text-align: right;\n",
       "    }\n",
       "</style>\n",
       "<table border=\"1\" class=\"dataframe\">\n",
       "  <thead>\n",
       "    <tr style=\"text-align: right;\">\n",
       "      <th></th>\n",
       "      <th>Route no.(evening)</th>\n",
       "      <th>cost</th>\n",
       "      <th>distance</th>\n",
       "      <th>demand</th>\n",
       "      <th>Vehicle Capacity</th>\n",
       "    </tr>\n",
       "  </thead>\n",
       "  <tbody>\n",
       "    <tr>\n",
       "      <th>0</th>\n",
       "      <td>6new (6+36)</td>\n",
       "      <td>574.60</td>\n",
       "      <td>29.4</td>\n",
       "      <td>3100</td>\n",
       "      <td>6000</td>\n",
       "    </tr>\n",
       "    <tr>\n",
       "      <th>1</th>\n",
       "      <td>11new(11+46)</td>\n",
       "      <td>222.20</td>\n",
       "      <td>13.5</td>\n",
       "      <td>2730</td>\n",
       "      <td>3500</td>\n",
       "    </tr>\n",
       "    <tr>\n",
       "      <th>2</th>\n",
       "      <td>15new(15+8)</td>\n",
       "      <td>337.20</td>\n",
       "      <td>14.2</td>\n",
       "      <td>2350</td>\n",
       "      <td>3500</td>\n",
       "    </tr>\n",
       "    <tr>\n",
       "      <th>3</th>\n",
       "      <td>16</td>\n",
       "      <td>439.41</td>\n",
       "      <td>20.5</td>\n",
       "      <td>1700</td>\n",
       "      <td>6000</td>\n",
       "    </tr>\n",
       "    <tr>\n",
       "      <th>4</th>\n",
       "      <td>26new (26+10)</td>\n",
       "      <td>322.84</td>\n",
       "      <td>11.5</td>\n",
       "      <td>2611</td>\n",
       "      <td>3500</td>\n",
       "    </tr>\n",
       "    <tr>\n",
       "      <th>5</th>\n",
       "      <td>35new (35=61)</td>\n",
       "      <td>420.96</td>\n",
       "      <td>22.8</td>\n",
       "      <td>3100</td>\n",
       "      <td>3500</td>\n",
       "    </tr>\n",
       "    <tr>\n",
       "      <th>6</th>\n",
       "      <td>37new(37+27)</td>\n",
       "      <td>461.20</td>\n",
       "      <td>25.2</td>\n",
       "      <td>2607</td>\n",
       "      <td>3500</td>\n",
       "    </tr>\n",
       "    <tr>\n",
       "      <th>7</th>\n",
       "      <td>43new(43+59)</td>\n",
       "      <td>330.00</td>\n",
       "      <td>12.4</td>\n",
       "      <td>2770</td>\n",
       "      <td>3500</td>\n",
       "    </tr>\n",
       "    <tr>\n",
       "      <th>8</th>\n",
       "      <td>45new(45+7)</td>\n",
       "      <td>461.34</td>\n",
       "      <td>25.9</td>\n",
       "      <td>1000</td>\n",
       "      <td>3500</td>\n",
       "    </tr>\n",
       "    <tr>\n",
       "      <th>9</th>\n",
       "      <td>57</td>\n",
       "      <td>326.26</td>\n",
       "      <td>14.0</td>\n",
       "      <td>1167</td>\n",
       "      <td>3500</td>\n",
       "    </tr>\n",
       "    <tr>\n",
       "      <th>10</th>\n",
       "      <td>58new(58+28)</td>\n",
       "      <td>467.50</td>\n",
       "      <td>26.6</td>\n",
       "      <td>1720</td>\n",
       "      <td>3500</td>\n",
       "    </tr>\n",
       "    <tr>\n",
       "      <th>11</th>\n",
       "      <td>60</td>\n",
       "      <td>421.08</td>\n",
       "      <td>24.7</td>\n",
       "      <td>900</td>\n",
       "      <td>3500</td>\n",
       "    </tr>\n",
       "  </tbody>\n",
       "</table>\n",
       "</div>"
      ],
      "text/plain": [
       "   Route no.(evening)    cost  distance  demand  Vehicle Capacity\n",
       "0         6new (6+36)  574.60      29.4    3100              6000\n",
       "1        11new(11+46)  222.20      13.5    2730              3500\n",
       "2         15new(15+8)  337.20      14.2    2350              3500\n",
       "3                  16  439.41      20.5    1700              6000\n",
       "4       26new (26+10)  322.84      11.5    2611              3500\n",
       "5       35new (35=61)  420.96      22.8    3100              3500\n",
       "6        37new(37+27)  461.20      25.2    2607              3500\n",
       "7        43new(43+59)  330.00      12.4    2770              3500\n",
       "8         45new(45+7)  461.34      25.9    1000              3500\n",
       "9                  57  326.26      14.0    1167              3500\n",
       "10       58new(58+28)  467.50      26.6    1720              3500\n",
       "11                 60  421.08      24.7     900              3500"
      ]
     },
     "execution_count": 3,
     "metadata": {},
     "output_type": "execute_result"
    }
   ],
   "source": [
    "df=pd.read_csv(\"Book3.csv\")\n",
    "df"
   ]
  },
  {
   "cell_type": "code",
   "execution_count": 4,
   "id": "accompanied-handy",
   "metadata": {},
   "outputs": [
    {
     "data": {
      "text/plain": [
       "LinearRegression()"
      ]
     },
     "execution_count": 4,
     "metadata": {},
     "output_type": "execute_result"
    }
   ],
   "source": [
    "reg=linear_model.LinearRegression()\n",
    "reg.fit(df[['distance','demand']],df.cost)"
   ]
  },
  {
   "cell_type": "code",
   "execution_count": 9,
   "id": "invisible-freedom",
   "metadata": {},
   "outputs": [
    {
     "data": {
      "text/plain": [
       "array([325.57499869])"
      ]
     },
     "execution_count": 9,
     "metadata": {},
     "output_type": "execute_result"
    }
   ],
   "source": [
    "reg.predict([[14.4,2350]])"
   ]
  },
  {
   "cell_type": "code",
   "execution_count": 10,
   "id": "vanilla-gates",
   "metadata": {},
   "outputs": [
    {
     "data": {
      "image/png": "[encoded data removed]",
      "text/plain": [
       "<Figure size 432x288 with 1 Axes>"
      ]
     },
     "metadata": {
      "needs_background": "light"
     },
     "output_type": "display_data"
    }
   ],
   "source": [
    "#plt.scatter(df[['distance']],df.cost)\n",
    "#plt.scatter(df[['demand']],df.cost)\n",
    "plt.plot(df[['distance','demand']],df.cost)\n",
    "plt.show()"
   ]
  },
  {
   "cell_type": "code",
   "execution_count": null,
   "id": "dangerous-brooklyn",
   "metadata": {},
   "outputs": [],
   "source": []
  }
 ],
 "metadata": {
  "kernelspec": {
   "display_name": "Python 3",
   "language": "python",
   "name": "python3"
  },
  "language_info": {
   "codemirror_mode": {
    "name": "ipython",
    "version": 3
   },
   "file_extension": ".py",
   "mimetype": "text/x-python",
   "name": "python",
   "nbconvert_exporter": "python",
   "pygments_lexer": "ipython3",
   "version": "3.8.5"
  }
 },
 "nbformat": 4,
 "nbformat_minor": 5
}
