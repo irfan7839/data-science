{
 "cells": [
  {
   "cell_type": "code",
   "execution_count": 1,
   "id": "packed-optimization",
   "metadata": {},
   "outputs": [],
   "source": [
    "import numpy as np\n",
    "import matplotlib.pyplot as plt\n",
    "import pandas as pd\n",
    "from sklearn import linear_model"
   ]
  },
  {
   "cell_type": "code",
   "execution_count": 2,
   "id": "descending-pressing",
   "metadata": {},
   "outputs": [
    {
     "data": {
      "text/html": [
       "<div>\n",
       "<style scoped>\n",
       "    .dataframe tbody tr th:only-of-type {\n",
       "        vertical-align: middle;\n",
       "    }\n",
       "\n",
       "    .dataframe tbody tr th {\n",
       "        vertical-align: top;\n",
       "    }\n",
       "\n",
       "    .dataframe thead th {\n",
       "        text-align: right;\n",
       "    }\n",
       "</style>\n",
       "<table border=\"1\" class=\"dataframe\">\n",
       "  <thead>\n",
       "    <tr style=\"text-align: right;\">\n",
       "      <th></th>\n",
       "      <th>Route no.(evening)</th>\n",
       "      <th>cost</th>\n",
       "      <th>distance</th>\n",
       "      <th>demand</th>\n",
       "      <th>Capacity</th>\n",
       "    </tr>\n",
       "  </thead>\n",
       "  <tbody>\n",
       "    <tr>\n",
       "      <th>0</th>\n",
       "      <td>6</td>\n",
       "      <td>382.20</td>\n",
       "      <td>14.2</td>\n",
       "      <td>1100</td>\n",
       "      <td>6000</td>\n",
       "    </tr>\n",
       "    <tr>\n",
       "      <th>1</th>\n",
       "      <td>7 new(7)</td>\n",
       "      <td>448.20</td>\n",
       "      <td>20.2</td>\n",
       "      <td>300</td>\n",
       "      <td>6000</td>\n",
       "    </tr>\n",
       "    <tr>\n",
       "      <th>2</th>\n",
       "      <td>15</td>\n",
       "      <td>300.80</td>\n",
       "      <td>8.5</td>\n",
       "      <td>1220</td>\n",
       "      <td>3500</td>\n",
       "    </tr>\n",
       "    <tr>\n",
       "      <th>3</th>\n",
       "      <td>16 new ( 16+8)</td>\n",
       "      <td>442.70</td>\n",
       "      <td>19.7</td>\n",
       "      <td>2830</td>\n",
       "      <td>6000</td>\n",
       "    </tr>\n",
       "    <tr>\n",
       "      <th>4</th>\n",
       "      <td>26new (26+10)</td>\n",
       "      <td>327.20</td>\n",
       "      <td>11.5</td>\n",
       "      <td>2611</td>\n",
       "      <td>3500</td>\n",
       "    </tr>\n",
       "    <tr>\n",
       "      <th>5</th>\n",
       "      <td>28</td>\n",
       "      <td>524.10</td>\n",
       "      <td>27.1</td>\n",
       "      <td>900</td>\n",
       "      <td>6000</td>\n",
       "    </tr>\n",
       "    <tr>\n",
       "      <th>6</th>\n",
       "      <td>35new (35=61)</td>\n",
       "      <td>426.64</td>\n",
       "      <td>22.8</td>\n",
       "      <td>3100</td>\n",
       "      <td>3500</td>\n",
       "    </tr>\n",
       "    <tr>\n",
       "      <th>7</th>\n",
       "      <td>36 new(36+11)</td>\n",
       "      <td>465.80</td>\n",
       "      <td>21.8</td>\n",
       "      <td>3530</td>\n",
       "      <td>6000</td>\n",
       "    </tr>\n",
       "    <tr>\n",
       "      <th>8</th>\n",
       "      <td>37new(37+27)</td>\n",
       "      <td>447.76</td>\n",
       "      <td>25.2</td>\n",
       "      <td>2607</td>\n",
       "      <td>3500</td>\n",
       "    </tr>\n",
       "    <tr>\n",
       "      <th>9</th>\n",
       "      <td>43new(43+59)</td>\n",
       "      <td>335.12</td>\n",
       "      <td>12.4</td>\n",
       "      <td>2770</td>\n",
       "      <td>3500</td>\n",
       "    </tr>\n",
       "    <tr>\n",
       "      <th>10</th>\n",
       "      <td>45</td>\n",
       "      <td>328.96</td>\n",
       "      <td>11.7</td>\n",
       "      <td>700</td>\n",
       "      <td>3500</td>\n",
       "    </tr>\n",
       "    <tr>\n",
       "      <th>11</th>\n",
       "      <td>46new</td>\n",
       "      <td>327.20</td>\n",
       "      <td>11.5</td>\n",
       "      <td>1200</td>\n",
       "      <td>3500</td>\n",
       "    </tr>\n",
       "    <tr>\n",
       "      <th>12</th>\n",
       "      <td>57</td>\n",
       "      <td>349.20</td>\n",
       "      <td>14.0</td>\n",
       "      <td>1167</td>\n",
       "      <td>3500</td>\n",
       "    </tr>\n",
       "    <tr>\n",
       "      <th>13</th>\n",
       "      <td>58</td>\n",
       "      <td>305.20</td>\n",
       "      <td>9.0</td>\n",
       "      <td>820</td>\n",
       "      <td>3500</td>\n",
       "    </tr>\n",
       "    <tr>\n",
       "      <th>14</th>\n",
       "      <td>60</td>\n",
       "      <td>443.36</td>\n",
       "      <td>24.7</td>\n",
       "      <td>900</td>\n",
       "      <td>3500</td>\n",
       "    </tr>\n",
       "  </tbody>\n",
       "</table>\n",
       "</div>"
      ],
      "text/plain": [
       "   Route no.(evening)    cost  distance  demand  Capacity\n",
       "0                   6  382.20      14.2    1100      6000\n",
       "1            7 new(7)  448.20      20.2     300      6000\n",
       "2                  15  300.80       8.5    1220      3500\n",
       "3      16 new ( 16+8)  442.70      19.7    2830      6000\n",
       "4       26new (26+10)  327.20      11.5    2611      3500\n",
       "5                  28  524.10      27.1     900      6000\n",
       "6       35new (35=61)  426.64      22.8    3100      3500\n",
       "7       36 new(36+11)  465.80      21.8    3530      6000\n",
       "8        37new(37+27)  447.76      25.2    2607      3500\n",
       "9        43new(43+59)  335.12      12.4    2770      3500\n",
       "10                 45  328.96      11.7     700      3500\n",
       "11              46new  327.20      11.5    1200      3500\n",
       "12                 57  349.20      14.0    1167      3500\n",
       "13                 58  305.20       9.0     820      3500\n",
       "14                 60  443.36      24.7     900      3500"
      ]
     },
     "execution_count": 2,
     "metadata": {},
     "output_type": "execute_result"
    }
   ],
   "source": [
    "df=pd.read_csv(\"Book2.csv\")\n",
    "df"
   ]
  },
  {
   "cell_type": "code",
   "execution_count": 3,
   "id": "outstanding-testimony",
   "metadata": {},
   "outputs": [
    {
     "data": {
      "text/plain": [
       "LinearRegression()"
      ]
     },
     "execution_count": 3,
     "metadata": {},
     "output_type": "execute_result"
    }
   ],
   "source": [
    "reg=linear_model.LinearRegression()\n",
    "reg.fit(df[['distance','demand']],df.cost)"
   ]
  },
  {
   "cell_type": "code",
   "execution_count": 8,
   "id": "pleased-spoke",
   "metadata": {},
   "outputs": [
    {
     "data": {
      "text/plain": [
       "array([500.54057374])"
      ]
     },
     "execution_count": 8,
     "metadata": {},
     "output_type": "execute_result"
    }
   ],
   "source": [
    "reg.predict([[27.1,900]])"
   ]
  },
  {
   "cell_type": "code",
   "execution_count": 9,
   "id": "tested-treasurer",
   "metadata": {},
   "outputs": [
    {
     "data": {
      "image/png": "[encoded data removed]",
      "text/plain": [
       "<Figure size 432x288 with 1 Axes>"
      ]
     },
     "metadata": {
      "needs_background": "light"
     },
     "output_type": "display_data"
    }
   ],
   "source": [
    "#plt.scatter(df[['distance']],df.cost)\n",
    "#plt.scatter(df[['demand']],df.cost)\n",
    "plt.plot(df[['distance','demand']],df.cost)\n",
    "plt.show()"
   ]
  },
  {
   "cell_type": "code",
   "execution_count": null,
   "id": "lasting-python",
   "metadata": {},
   "outputs": [],
   "source": []
  }
 ],
 "metadata": {
  "kernelspec": {
   "display_name": "Python 3",
   "language": "python",
   "name": "python3"
  },
  "language_info": {
   "codemirror_mode": {
    "name": "ipython",
    "version": 3
   },
   "file_extension": ".py",
   "mimetype": "text/x-python",
   "name": "python",
   "nbconvert_exporter": "python",
   "pygments_lexer": "ipython3",
   "version": "3.8.5"
  }
 },
 "nbformat": 4,
 "nbformat_minor": 5
}
